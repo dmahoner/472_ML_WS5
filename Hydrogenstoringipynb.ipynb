{
  "nbformat": 4,
  "nbformat_minor": 0,
  "metadata": {
    "colab": {
      "provenance": [],
      "include_colab_link": true
    },
    "kernelspec": {
      "name": "python3",
      "display_name": "Python 3"
    },
    "language_info": {
      "name": "python"
    }
  },
  "cells": [
    {
      "cell_type": "markdown",
      "metadata": {
        "id": "view-in-github",
        "colab_type": "text"
      },
      "source": [
        "<a href=\"https://colab.research.google.com/github/dmahoner/472_ML_WS5/blob/main/Hydrogenstoringipynb.ipynb\" target=\"_parent\"><img src=\"https://colab.research.google.com/assets/colab-badge.svg\" alt=\"Open In Colab\"/></a>"
      ]
    },
    {
      "cell_type": "markdown",
      "source": [
        "## Part 1: Dataset Exploration"
      ],
      "metadata": {
        "id": "HM7oS8yXSm7d"
      }
    },
    {
      "cell_type": "markdown",
      "source": [
        "import the dataset"
      ],
      "metadata": {
        "id": "74GI8ez2S2ib"
      }
    },
    {
      "cell_type": "code",
      "source": [
        "import pandas as pd\n",
        "\n",
        "# Replace 'path/to/your/file.xlsx' with the actual path to your file\n",
        "file_path = '/content/Hydrogen storage dataset (1).xlsx'\n",
        "\n",
        "# Read the XLSX file into a Pandas DataFrame\n",
        "df = pd.read_excel(file_path)\n",
        "\n",
        "print(df.head())  # Print the first few rows of the DataFrame"
      ],
      "metadata": {
        "colab": {
          "base_uri": "https://localhost:8080/"
        },
        "id": "GdHxUbc8Spfb",
        "outputId": "c3b660b6-fb88-4233-d771-706ea23145cb"
      },
      "execution_count": null,
      "outputs": [
        {
          "output_type": "stream",
          "name": "stdout",
          "text": [
            "                                          Unnamed: 0  \\\n",
            "0                                                NaN   \n",
            "1                                      Material name   \n",
            "2  Carbon nanotube functionalized with HNO3 at 80 °C   \n",
            "3  Carbon nanotube functionalized with HNO3 at 80 °C   \n",
            "4  Carbon nanotube functionalized with HNO3 at 80 °C   \n",
            "\n",
            "                                      Input features  \\\n",
            "0  Functionalized carbonaceous nanomaterial prope...   \n",
            "1                          Average crystal size (nm)   \n",
            "2                                           3.780644   \n",
            "3                                           3.780644   \n",
            "4                                           3.780644   \n",
            "\n",
            "                                    Input features.1  \\\n",
            "0  Functionalized carbonaceous nanomaterial prope...   \n",
            "1                             Crystalinity index (%)   \n",
            "2                                          82.394903   \n",
            "3                                          82.394903   \n",
            "4                                          82.394903   \n",
            "\n",
            "                                    Input features.2  \\\n",
            "0  Functionalized carbonaceous nanomaterial prope...   \n",
            "1                            BET surface area (m²/g)   \n",
            "2                                              125.2   \n",
            "3                                              125.2   \n",
            "4                                              125.2   \n",
            "\n",
            "                                    Input features.3  \\\n",
            "0  Functionalized carbonaceous nanomaterial prope...   \n",
            "1                                Pore volume (cm³/g)   \n",
            "2                                              1.018   \n",
            "3                                              1.018   \n",
            "4                                              1.018   \n",
            "\n",
            "            Input features.4 Input features.5  \\\n",
            "0  Thermodynamic parameters               NaN   \n",
            "1            Temperature (K)   Pressure (bar)   \n",
            "2                        298                0   \n",
            "3                        298          4.89664   \n",
            "4                        298          10.0696   \n",
            "\n",
            "                  Output parameters        Output parameters.1  \n",
            "0                               NaN                        NaN  \n",
            "1  Hydrogen uptake/adsorption (wt%)  Hydrogen desorption (wt%)  \n",
            "2                                 0                   0.011229  \n",
            "3                          0.013857                        NaN  \n",
            "4                          0.018396                   0.027713  \n"
          ]
        }
      ]
    },
    {
      "cell_type": "code",
      "source": [
        "# prompt: write code to tell the system that the data starts at row 3\n",
        "\n",
        "import pandas as pd\n",
        "df = pd.read_excel(file_path, header=2) # header=2 means row 3 will be the header\n",
        "print(df.head())\n"
      ],
      "metadata": {
        "colab": {
          "base_uri": "https://localhost:8080/"
        },
        "id": "UZyMEPXAMvIH",
        "outputId": "bf4c5daa-b977-4ea0-b9a0-cc74cbc1a6cb"
      },
      "execution_count": null,
      "outputs": [
        {
          "output_type": "stream",
          "name": "stdout",
          "text": [
            "                                       Material name  \\\n",
            "0  Carbon nanotube functionalized with HNO3 at 80 °C   \n",
            "1  Carbon nanotube functionalized with HNO3 at 80 °C   \n",
            "2  Carbon nanotube functionalized with HNO3 at 80 °C   \n",
            "3  Carbon nanotube functionalized with HNO3 at 80 °C   \n",
            "4  Carbon nanotube functionalized with HNO3 at 80 °C   \n",
            "\n",
            "   Average crystal size (nm)  Crystalinity index (%)  \\\n",
            "0                   3.780644               82.394903   \n",
            "1                   3.780644               82.394903   \n",
            "2                   3.780644               82.394903   \n",
            "3                   3.780644               82.394903   \n",
            "4                   3.780644               82.394903   \n",
            "\n",
            "    BET surface area (m²/g)  Pore volume (cm³/g)  Temperature (K)  \\\n",
            "0                     125.2                1.018            298.0   \n",
            "1                     125.2                1.018            298.0   \n",
            "2                     125.2                1.018            298.0   \n",
            "3                     125.2                1.018            298.0   \n",
            "4                     125.2                1.018            298.0   \n",
            "\n",
            "  Pressure (bar)  Hydrogen uptake/adsorption (wt%)  Hydrogen desorption (wt%)  \n",
            "0              0                          0.000000                   0.011229  \n",
            "1        4.89664                          0.013857                        NaN  \n",
            "2        10.0696                          0.018396                   0.027713  \n",
            "3        20.0167                          0.032969                   0.040136  \n",
            "4        29.8414                          0.043720                   0.049454  \n"
          ]
        }
      ]
    },
    {
      "cell_type": "markdown",
      "source": [
        "Identifying missing values"
      ],
      "metadata": {
        "id": "cv_g551_ZJou"
      }
    },
    {
      "cell_type": "code",
      "source": [
        "# prompt: write code to look for missing values\n",
        "\n",
        "# Check for missing values in the DataFrame\n",
        "missing_values = df.isnull().sum()\n",
        "\n",
        "# Print the count of missing values for each column\n",
        "print(\"Missing values per column:\")\n",
        "print(missing_values)\n"
      ],
      "metadata": {
        "colab": {
          "base_uri": "https://localhost:8080/"
        },
        "id": "aR3BfZLVZRc7",
        "outputId": "8688245e-ea91-45f1-83d5-02d01a310da6"
      },
      "execution_count": null,
      "outputs": [
        {
          "output_type": "stream",
          "name": "stdout",
          "text": [
            "Missing values per column:\n",
            "Material name                         0\n",
            "Average crystal size (nm)             0\n",
            "Crystalinity index (%)                0\n",
            " BET surface area (m²/g)              0\n",
            "Pore volume (cm³/g)                   0\n",
            "Temperature (K)                       0\n",
            "Pressure (bar)                        0\n",
            "Hydrogen uptake/adsorption (wt%)    116\n",
            "Hydrogen desorption (wt%)           388\n",
            "dtype: int64\n"
          ]
        }
      ]
    },
    {
      "cell_type": "markdown",
      "source": [
        "Replace missing values"
      ],
      "metadata": {
        "id": "f1gIZPNkZWC7"
      }
    },
    {
      "cell_type": "code",
      "source": [
        "# prompt: write code to look for missing values\n",
        "\n",
        "# Check for missing values in the DataFrame\n",
        "missing_values = df.isnull().sum()\n",
        "\n",
        "# Print the count of missing values for each column\n",
        "print(\"Missing values per column:\")\n",
        "print(missing_values)"
      ],
      "metadata": {
        "colab": {
          "base_uri": "https://localhost:8080/"
        },
        "id": "zeCKFky0KolF",
        "outputId": "2747fe7b-f46e-4d17-9f4e-15c11aa19d84"
      },
      "execution_count": null,
      "outputs": [
        {
          "output_type": "stream",
          "name": "stdout",
          "text": [
            "Missing values per column:\n",
            "Material name                         0\n",
            "Average crystal size (nm)             0\n",
            "Crystalinity index (%)                0\n",
            " BET surface area (m²/g)              0\n",
            "Pore volume (cm³/g)                   0\n",
            "Temperature (K)                       0\n",
            "Pressure (bar)                        0\n",
            "Hydrogen uptake/adsorption (wt%)    116\n",
            "Hydrogen desorption (wt%)           388\n",
            "dtype: int64\n"
          ]
        }
      ]
    },
    {
      "cell_type": "code",
      "source": [
        "# prompt: write code to replace the missing values with the average in its column\n",
        "\n",
        "# Replace missing values with the column average\n",
        "for column in df.columns:\n",
        "  if df[column].isnull().any():\n",
        "    column_mean = df[column].mean()\n",
        "    df[column].fillna(column_mean, inplace=True)\n",
        "\n",
        "# Verify that there are no more missing values\n",
        "missing_values_after_replacement = df.isnull().sum()\n",
        "print(\"\\nMissing values after replacement:\")\n",
        "print(missing_values_after_replacement)"
      ],
      "metadata": {
        "colab": {
          "base_uri": "https://localhost:8080/"
        },
        "id": "LZEPz0yFycnG",
        "outputId": "ee6710a3-5ffd-45bd-8814-1f197d77ecd7"
      },
      "execution_count": null,
      "outputs": [
        {
          "output_type": "stream",
          "name": "stdout",
          "text": [
            "\n",
            "Missing values after replacement:\n",
            "Material name                       0\n",
            "Average crystal size (nm)           0\n",
            "Crystalinity index (%)              0\n",
            " BET surface area (m²/g)            0\n",
            "Pore volume (cm³/g)                 0\n",
            "Temperature (K)                     0\n",
            "Pressure (bar)                      0\n",
            "Hydrogen uptake/adsorption (wt%)    0\n",
            "Hydrogen desorption (wt%)           0\n",
            "dtype: int64\n"
          ]
        }
      ]
    },
    {
      "cell_type": "code",
      "source": [
        "# prompt: replace missing values with 0\n",
        "\n",
        "# Replace missing values with 0\n",
        "#df_filled = df.fillna(0)\n",
        "\n",
        "# Verify that missing values have been replaced\n",
        "#missing_values_after_fill = df_filled.isnull().sum()\n",
        "#print(\"\\nMissing values after filling with 0:\")\n",
        "#print(missing_values_after_fill)\n"
      ],
      "metadata": {
        "id": "w6iZR_VRYkYK"
      },
      "execution_count": null,
      "outputs": []
    },
    {
      "cell_type": "markdown",
      "source": [
        "Identify data types"
      ],
      "metadata": {
        "id": "D25wHlQQZnot"
      }
    },
    {
      "cell_type": "code",
      "source": [
        "# prompt: write code to identify data types\n",
        "\n",
        "# Check data types of each column\n",
        "data_types = df.dtypes\n",
        "\n",
        "# Print the data types\n",
        "print(\"\\nData types of each column:\")\n",
        "print(data_types)\n"
      ],
      "metadata": {
        "colab": {
          "base_uri": "https://localhost:8080/"
        },
        "id": "3Rj9OSRMZoow",
        "outputId": "c4361e38-23cf-4817-a795-c80265cbba24"
      },
      "execution_count": null,
      "outputs": [
        {
          "output_type": "stream",
          "name": "stdout",
          "text": [
            "\n",
            "Data types of each column:\n",
            "Material name                        object\n",
            "Average crystal size (nm)           float64\n",
            "Crystalinity index (%)              float64\n",
            " BET surface area (m²/g)            float64\n",
            "Pore volume (cm³/g)                 float64\n",
            "Temperature (K)                     float64\n",
            "Pressure (bar)                       object\n",
            "Hydrogen uptake/adsorption (wt%)    float64\n",
            "Hydrogen desorption (wt%)           float64\n",
            "dtype: object\n"
          ]
        }
      ]
    },
    {
      "cell_type": "markdown",
      "source": [
        "Basic Statistics"
      ],
      "metadata": {
        "id": "eTmhEGTOZ47y"
      }
    },
    {
      "source": [
        "# prompt: write code to compute basic statistics\n",
        "\n",
        "# Compute basic statistics for numerical columns\n",
        "numerical_stats = df.describe()\n",
        "\n",
        "# Print the statistics\n",
        "print(\"\\nBasic statistics for numerical columns:\")\n",
        "print(numerical_stats)\n",
        "\n",
        "# Compute value counts for categorical columns\n",
        "for column in df.columns:\n",
        "  if df[column].dtypes == 'object': # Access dtypes attribute of the Series\n",
        "    print(f\"\\nValue counts for column '{column}':\")\n",
        "    print(df[column].value_counts())"
      ],
      "cell_type": "code",
      "metadata": {
        "colab": {
          "base_uri": "https://localhost:8080/"
        },
        "id": "sMlZhAO7I2jS",
        "outputId": "114f5699-a816-4400-82b7-8099b7ad3adb"
      },
      "execution_count": null,
      "outputs": [
        {
          "output_type": "stream",
          "name": "stdout",
          "text": [
            "\n",
            "Basic statistics for numerical columns:\n",
            "       Average crystal size (nm)  Crystalinity index (%)  \\\n",
            "count                 539.000000              539.000000   \n",
            "mean                    8.166266               49.162962   \n",
            "std                     4.560454               16.764251   \n",
            "min                     2.977754               18.900143   \n",
            "25%                     3.669600               36.381961   \n",
            "50%                     9.032235               52.881608   \n",
            "75%                    12.543453               62.089987   \n",
            "max                    15.712170               82.394903   \n",
            "\n",
            "        BET surface area (m²/g)  Pore volume (cm³/g)  Temperature (K)  \\\n",
            "count                539.000000           539.000000       539.000000   \n",
            "mean                 258.195065             0.838367       246.267191   \n",
            "std                  214.466418             0.609617       152.823071   \n",
            "min                   39.200000             0.021000        77.000000   \n",
            "25%                   89.060000             0.307000        77.000000   \n",
            "50%                  204.000000             0.530000       298.000000   \n",
            "75%                  428.000000             1.410000       298.150000   \n",
            "max                  870.000000             1.891000       873.150000   \n",
            "\n",
            "       Hydrogen uptake/adsorption (wt%)  Hydrogen desorption (wt%)  \n",
            "count                        539.000000                 539.000000  \n",
            "mean                           0.601873                   0.750073  \n",
            "std                            0.652448                   0.349933  \n",
            "min                            0.000000                   0.011229  \n",
            "25%                            0.212346                   0.750073  \n",
            "50%                            0.528395                   0.750073  \n",
            "75%                            0.601873                   0.750073  \n",
            "max                            4.797770                   3.286860  \n",
            "\n",
            "Value counts for column 'Material name':\n",
            "Material name\n",
            "Multi-walled carbon nanotube functionalized with H2SO4 and HNO3 with 3:1 ratio    88\n",
            "MWCNT loaded with Pt                                                              80\n",
            "Multi-walled carbon nanotube functionalized with DMF and SOCl2 acylation          77\n",
            "CNT decorated with Ni at mass ratio of 10                                         50\n",
            "Nitrogen-doped carbon nanorods at 500 °C (NCNR-500)                               29\n",
            "CNT decorated with Ni at mass ratio of 2                                          25\n",
            "CNT decorated with Ni at mass ratio of 5                                          24\n",
            "Nitrogen-doped fused bead carbon nanotubes at 700 °C (NCBCT-700)                  22\n",
            "Nitrogen-doped carbonnanotubes at 900 °C (NCNT-900)                               20\n",
            "SWCNT doped with Mg-Ni(Mg45w%,Ni 55w%)                                            20\n",
            "SWCNT doped with Mg-Ni-Cu(Mg41.2w%,Ni53.6w%,Cu6.2w%)                              19\n",
            "SWCNT doped with Mg-Ni-Cu(Mg39.6w%,Ni50.3w%,Cu10.1w%)                             14\n",
            "Carbon nanotube doped with Pd nanoparticle for 72 h                               14\n",
            "Carbon nanotube doped with Pd nanoparticle for 48 h                               14\n",
            "Carbon nanotube doped with Pd nanoparticle for 24 h                               14\n",
            "Carbon nanotube functionalized with HNO3 at 100 °C                                 7\n",
            "Carbon nanotube functionalized with H2SO4:HNO3 at 100 °C                           7\n",
            "Carbon nanotube functionalized with H2SO4:HNO3 at 80 °C                            7\n",
            "Carbon nanotube functionalized with HNO3 at 80 °C                                  7\n",
            "CNT decorated with Ni at mass ratio of 20                                          1\n",
            "Name: count, dtype: int64\n",
            "\n",
            "Value counts for column 'Pressure (bar)':\n",
            "Pressure (bar)\n",
            "0.000000     3\n",
            "0.608365     3\n",
            "14.296600    2\n",
            "3.039760     2\n",
            "0.309796     2\n",
            "            ..\n",
            "47.081200    1\n",
            "41.228000    1\n",
            "35.834600    1\n",
            "31.052200    1\n",
            "94.268300    1\n",
            "Name: count, Length: 521, dtype: int64\n"
          ]
        }
      ]
    },
    {
      "cell_type": "markdown",
      "source": [
        "Data Visualization"
      ],
      "metadata": {
        "id": "SQYNINdLL7T0"
      }
    },
    {
      "source": [
        "import matplotlib.pyplot as plt\n",
        "import seaborn as sns\n",
        "\n",
        "# Calculate the correlation matrix for numerical columns only\n",
        "correlation_matrix = df.select_dtypes(include=['number']).corr()\n",
        "\n",
        "# Create a heatmap\n",
        "plt.figure(figsize=(12, 10))  # Adjust the figure size as needed\n",
        "sns.heatmap(correlation_matrix, annot=True, cmap='coolwarm', fmt=\".2f\")\n",
        "plt.title('Correlation Matrix Heatmap')\n",
        "plt.show()"
      ],
      "cell_type": "code",
      "metadata": {
        "colab": {
          "base_uri": "https://localhost:8080/",
          "height": 808
        },
        "id": "2jAHPHx0Nu0k",
        "outputId": "f9a0fcc7-011d-4635-97cb-2de562448f3e"
      },
      "execution_count": null,
      "outputs": [
        {
          "output_type": "display_data",
          "data": {
            "text/plain": [
              "<Figure size 1200x1000 with 2 Axes>"
            ],
            "image/png": "[encoded data removed]"
          },
          "metadata": {}
        }
      ]
    },
    {
      "cell_type": "markdown",
      "source": [
        "## Part 2"
      ],
      "metadata": {
        "id": "NnScuwI2Pjlm"
      }
    },
    {
      "cell_type": "markdown",
      "source": [
        "Import needed databases/ libraries"
      ],
      "metadata": {
        "id": "xWCoa2P5WiMf"
      }
    },
    {
      "cell_type": "code",
      "source": [
        "!pip install shap -q\n",
        "\n",
        "\n",
        "import pandas as pd\n",
        "import numpy as np\n",
        "from sklearn.model_selection import cross_val_score, train_test_split\n",
        "\n",
        "\n",
        "from sklearn.preprocessing import StandardScaler, OneHotEncoder\n",
        "from sklearn.compose import ColumnTransformer\n",
        "from sklearn.pipeline import Pipeline\n",
        "\n",
        "from sklearn.preprocessing import FunctionTransformer\n",
        "from sklearn.preprocessing import PolynomialFeatures\n",
        "import numpy as np\n",
        "\n",
        "from sklearn.ensemble import StackingRegressor\n",
        "from sklearn.linear_model import SGDRegressor\n",
        "from sklearn.ensemble import RandomForestRegressor\n",
        "from sklearn.ensemble import GradientBoostingRegressor\n",
        "from sklearn.ensemble import AdaBoostRegressor\n",
        "from sklearn.tree import DecisionTreeRegressor\n",
        "from sklearn.neural_network import MLPRegressor\n",
        "from sklearn.svm import SVR\n",
        "from xgboost import XGBRegressor\n",
        "from sklearn.linear_model import LinearRegression\n",
        "from sklearn.ensemble import ExtraTreesRegressor\n",
        "import joblib\n",
        "import seaborn as sns\n",
        "import matplotlib\n",
        "import matplotlib.pyplot as plt\n",
        "import matplotlib as mpl\n",
        "import scipy.stats as stats\n",
        "import plotly.graph_objects as go\n",
        "import plotly.express as px\n",
        "from scipy.stats import spearmanr\n",
        "from scipy.cluster import hierarchy\n",
        "from scipy.spatial.distance import squareform\n",
        "\n",
        "# Import filters to remove unnecessary warnings\n",
        "from warnings import simplefilter\n",
        "import warnings\n",
        "warnings.filterwarnings(\"ignore\")\n",
        "from sklearn.exceptions import ConvergenceWarning\n",
        "\n",
        "from scipy.cluster import hierarchy\n",
        "from scipy.spatial.distance import squareform\n",
        "\n",
        "# Import filters to remove unnecessary warnings\n",
        "from warnings import simplefilter\n",
        "import warnings\n",
        "warnings.filterwarnings(\"ignore\")\n",
        "\n",
        "from sklearn.metrics import mean_absolute_percentage_error, mean_squared_error, r2_score, mean_absolute_error\n",
        "import shap\n"
      ],
      "metadata": {
        "id": "IIVUwC7EWh-x"
      },
      "execution_count": null,
      "outputs": []
    },
    {
      "cell_type": "markdown",
      "source": [
        "Replace missing values with 0"
      ],
      "metadata": {
        "id": "o3H9dIscPp6y"
      }
    },
    {
      "source": [
        "# prompt: write code to fill in missing values with 0\n",
        "\n",
        "# Fill missing values with 0\n",
        "df_filled = df.fillna(0)\n",
        "\n",
        "# Print the DataFrame with missing values filled\n",
        "print(df_filled.head())\n",
        "\n",
        "# Check for missing values again\n",
        "missing_values_after_fill = df_filled.isnull().sum()\n",
        "print(\"Missing values per column after filling:\")\n",
        "print(missing_values_after_fill)\n"
      ],
      "cell_type": "code",
      "metadata": {
        "colab": {
          "base_uri": "https://localhost:8080/"
        },
        "id": "ppmzh9BhbeAT",
        "outputId": "68e460d2-50a2-4858-ef4f-d8f965b52238"
      },
      "execution_count": null,
      "outputs": [
        {
          "output_type": "stream",
          "name": "stdout",
          "text": [
            "                                       Material name  \\\n",
            "0  Carbon nanotube functionalized with HNO3 at 80 °C   \n",
            "1  Carbon nanotube functionalized with HNO3 at 80 °C   \n",
            "2  Carbon nanotube functionalized with HNO3 at 80 °C   \n",
            "3  Carbon nanotube functionalized with HNO3 at 80 °C   \n",
            "4  Carbon nanotube functionalized with HNO3 at 80 °C   \n",
            "\n",
            "   Average crystal size (nm)  Crystalinity index (%)  \\\n",
            "0                   3.780644               82.394903   \n",
            "1                   3.780644               82.394903   \n",
            "2                   3.780644               82.394903   \n",
            "3                   3.780644               82.394903   \n",
            "4                   3.780644               82.394903   \n",
            "\n",
            "    BET surface area (m²/g)  Pore volume (cm³/g)  Temperature (K)  \\\n",
            "0                     125.2                1.018            298.0   \n",
            "1                     125.2                1.018            298.0   \n",
            "2                     125.2                1.018            298.0   \n",
            "3                     125.2                1.018            298.0   \n",
            "4                     125.2                1.018            298.0   \n",
            "\n",
            "  Pressure (bar)  Hydrogen uptake/adsorption (wt%)  Hydrogen desorption (wt%)  \n",
            "0              0                          0.000000                   0.011229  \n",
            "1        4.89664                          0.013857                   0.000000  \n",
            "2        10.0696                          0.018396                   0.027713  \n",
            "3        20.0167                          0.032969                   0.040136  \n",
            "4        29.8414                          0.043720                   0.049454  \n",
            "Missing values per column after filling:\n",
            "Material name                       0\n",
            "Average crystal size (nm)           0\n",
            "Crystalinity index (%)              0\n",
            " BET surface area (m²/g)            0\n",
            "Pore volume (cm³/g)                 0\n",
            "Temperature (K)                     0\n",
            "Pressure (bar)                      0\n",
            "Hydrogen uptake/adsorption (wt%)    0\n",
            "Hydrogen desorption (wt%)           0\n",
            "dtype: int64\n"
          ]
        }
      ]
    },
    {
      "cell_type": "code",
      "source": [
        "# Check for duplicates in the entire dataset\n",
        "duplicates = df.duplicated()\n",
        "# If there are any duplicates, the 'duplicates' variable will contain True for those rows\n",
        "if duplicates.any():\n",
        "    # Get the rows with duplicates\n",
        "    duplicate_rows = df[duplicates]\n",
        "else:\n",
        "    print(\"No duplicates found in the dataset.\")"
      ],
      "metadata": {
        "colab": {
          "base_uri": "https://localhost:8080/"
        },
        "id": "_IkstN2oWSV0",
        "outputId": "c39389c8-96e7-4034-a1bf-be75da7cd701"
      },
      "execution_count": null,
      "outputs": [
        {
          "output_type": "stream",
          "name": "stdout",
          "text": [
            "No duplicates found in the dataset.\n"
          ]
        }
      ]
    },
    {
      "cell_type": "code",
      "source": [
        "# drop duplicates\n",
        "data = df.drop_duplicates()"
      ],
      "metadata": {
        "id": "GZ60YF1DWOIn"
      },
      "execution_count": null,
      "outputs": []
    },
    {
      "cell_type": "code",
      "source": [
        "import pandas as pd\n",
        "\n",
        "def one_hot_encode_objects(file_path, header_rows=2):\n",
        "    \"\"\"\n",
        "    One-hot encodes categorical variables that are objects in an Excel file, skipping the specified header rows.\n",
        "\n",
        "    Args:\n",
        "        file_path: The path to the Excel file.\n",
        "        header_rows: The number of rows to skip as headers.\n",
        "\n",
        "    Returns:\n",
        "        The DataFrame with one-hot encoded columns.\n",
        "    \"\"\"\n",
        "\n",
        "    # Read the Excel file, skipping the header rows\n",
        "    df = pd.read_excel(file_path, header=header_rows)\n",
        "\n",
        "    # Identify categorical columns with object data type\n",
        "    categorical_cols = df.select_dtypes(include='object').columns\n",
        "\n",
        "    # Perform one-hot encoding\n",
        "    df_encoded = pd.get_dummies(df, columns=categorical_cols)\n",
        "\n",
        "    return df_encoded\n",
        "\n",
        "# Example usage\n",
        "# Assuming your data is in an Excel file named 'data.xlsx'\n",
        "df_encoded = one_hot_encode_objects(file_path)\n",
        "print(df_encoded)\n"
      ],
      "metadata": {
        "colab": {
          "base_uri": "https://localhost:8080/"
        },
        "id": "3Cd239jrZD8J",
        "outputId": "d611d1d4-caef-4409-9b52-aefa04bfe964"
      },
      "execution_count": null,
      "outputs": [
        {
          "output_type": "stream",
          "name": "stdout",
          "text": [
            "     Average crystal size (nm)  Crystalinity index (%)  \\\n",
            "0                     3.780644               82.394903   \n",
            "1                     3.780644               82.394903   \n",
            "2                     3.780644               82.394903   \n",
            "3                     3.780644               82.394903   \n",
            "4                     3.780644               82.394903   \n",
            "..                         ...                     ...   \n",
            "534                   3.969572               36.381961   \n",
            "535                   3.969572               36.381961   \n",
            "536                   3.969572               36.381961   \n",
            "537                   3.969572               36.381961   \n",
            "538                   3.969572               36.381961   \n",
            "\n",
            "      BET surface area (m²/g)  Pore volume (cm³/g)  Temperature (K)  \\\n",
            "0                       125.2                1.018           298.00   \n",
            "1                       125.2                1.018           298.00   \n",
            "2                       125.2                1.018           298.00   \n",
            "3                       125.2                1.018           298.00   \n",
            "4                       125.2                1.018           298.00   \n",
            "..                        ...                  ...              ...   \n",
            "534                     870.0                0.623           298.15   \n",
            "535                     870.0                0.623           298.15   \n",
            "536                     870.0                0.623           298.15   \n",
            "537                     870.0                0.623           298.15   \n",
            "538                     870.0                0.623           298.15   \n",
            "\n",
            "     Hydrogen uptake/adsorption (wt%)  Hydrogen desorption (wt%)  \\\n",
            "0                            0.000000                   0.011229   \n",
            "1                            0.013857                        NaN   \n",
            "2                            0.018396                   0.027713   \n",
            "3                            0.032969                   0.040136   \n",
            "4                            0.043720                   0.049454   \n",
            "..                                ...                        ...   \n",
            "534                               NaN                   1.353420   \n",
            "535                               NaN                   1.516710   \n",
            "536                               NaN                   1.736450   \n",
            "537                               NaN                   1.916610   \n",
            "538                               NaN                   2.068630   \n",
            "\n",
            "     Material name_CNT decorated with Ni at mass ratio of 10  \\\n",
            "0                                                False         \n",
            "1                                                False         \n",
            "2                                                False         \n",
            "3                                                False         \n",
            "4                                                False         \n",
            "..                                                 ...         \n",
            "534                                              False         \n",
            "535                                              False         \n",
            "536                                              False         \n",
            "537                                              False         \n",
            "538                                              False         \n",
            "\n",
            "     Material name_CNT decorated with Ni at mass ratio of 2  \\\n",
            "0                                                False        \n",
            "1                                                False        \n",
            "2                                                False        \n",
            "3                                                False        \n",
            "4                                                False        \n",
            "..                                                 ...        \n",
            "534                                              False        \n",
            "535                                              False        \n",
            "536                                              False        \n",
            "537                                              False        \n",
            "538                                              False        \n",
            "\n",
            "     Material name_CNT decorated with Ni at mass ratio of 20  ...  \\\n",
            "0                                                False        ...   \n",
            "1                                                False        ...   \n",
            "2                                                False        ...   \n",
            "3                                                False        ...   \n",
            "4                                                False        ...   \n",
            "..                                                 ...        ...   \n",
            "534                                              False        ...   \n",
            "535                                              False        ...   \n",
            "536                                              False        ...   \n",
            "537                                              False        ...   \n",
            "538                                              False        ...   \n",
            "\n",
            "     Pressure (bar)_95.3593  Pressure (bar)_95.4415  Pressure (bar)_98.4809  \\\n",
            "0                     False                   False                   False   \n",
            "1                     False                   False                   False   \n",
            "2                     False                   False                   False   \n",
            "3                     False                   False                   False   \n",
            "4                     False                   False                   False   \n",
            "..                      ...                     ...                     ...   \n",
            "534                   False                   False                   False   \n",
            "535                   False                   False                   False   \n",
            "536                   False                   False                   False   \n",
            "537                   False                   False                   False   \n",
            "538                   False                   False                   False   \n",
            "\n",
            "     Pressure (bar)_98.833  Pressure (bar)_99.2521  Pressure (bar)_99.5603  \\\n",
            "0                    False                   False                   False   \n",
            "1                    False                   False                   False   \n",
            "2                    False                   False                   False   \n",
            "3                    False                   False                   False   \n",
            "4                    False                   False                   False   \n",
            "..                     ...                     ...                     ...   \n",
            "534                  False                   False                   False   \n",
            "535                  False                   False                   False   \n",
            "536                  False                   False                   False   \n",
            "537                  False                   False                   False   \n",
            "538                  False                   False                   False   \n",
            "\n",
            "     Pressure (bar)_99.7155  Pressure (bar)_99.7517  Pressure (bar)_ 1.42  \\\n",
            "0                     False                   False                 False   \n",
            "1                     False                   False                 False   \n",
            "2                     False                   False                 False   \n",
            "3                     False                   False                 False   \n",
            "4                     False                   False                 False   \n",
            "..                      ...                     ...                   ...   \n",
            "534                   False                   False                 False   \n",
            "535                   False                   False                 False   \n",
            "536                   False                   False                 False   \n",
            "537                   False                   False                 False   \n",
            "538                   False                   False                 False   \n",
            "\n",
            "     Pressure (bar)_ 1.81  \n",
            "0                   False  \n",
            "1                   False  \n",
            "2                   False  \n",
            "3                   False  \n",
            "4                   False  \n",
            "..                    ...  \n",
            "534                 False  \n",
            "535                 False  \n",
            "536                 False  \n",
            "537                 False  \n",
            "538                 False  \n",
            "\n",
            "[539 rows x 548 columns]\n"
          ]
        }
      ]
    },
    {
      "cell_type": "code",
      "source": [
        "# prompt: write code to replace the missing values with the average in its column\n",
        "\n",
        "# Replace missing values with the column average\n",
        "for column in df.columns:\n",
        "  if df[column].isnull().any():\n",
        "    column_mean = df[column].mean()\n",
        "    df[column].fillna(column_mean, inplace=True)\n",
        "\n",
        "# Verify that there are no more missing values\n",
        "missing_values_after_replacement = df.isnull().sum()\n",
        "print(\"\\nMissing values after replacement:\")\n",
        "print(missing_values_after_replacement)"
      ],
      "metadata": {
        "colab": {
          "base_uri": "https://localhost:8080/"
        },
        "id": "f7G9lT9czYno",
        "outputId": "aa89d16b-3edd-475d-8a40-adb740a5a827"
      },
      "execution_count": null,
      "outputs": [
        {
          "output_type": "stream",
          "name": "stdout",
          "text": [
            "\n",
            "Missing values after replacement:\n",
            "Material name                       0\n",
            "Average crystal size (nm)           0\n",
            "Crystalinity index (%)              0\n",
            " BET surface area (m²/g)            0\n",
            "Pore volume (cm³/g)                 0\n",
            "Temperature (K)                     0\n",
            "Pressure (bar)                      0\n",
            "Hydrogen uptake/adsorption (wt%)    0\n",
            "Hydrogen desorption (wt%)           0\n",
            "dtype: int64\n"
          ]
        }
      ]
    },
    {
      "cell_type": "code",
      "source": [
        "def ml_models(file_path, header_rows=2):\n",
        "    import pandas as pd\n",
        "    from sklearn.model_selection import train_test_split, GridSearchCV\n",
        "    from sklearn.ensemble import RandomForestRegressor\n",
        "    from sklearn.tree import DecisionTreeRegressor\n",
        "    from xgboost import XGBRegressor\n",
        "    from sklearn.metrics import mean_squared_error, r2_score, mean_absolute_error\n",
        "\n",
        "    try:\n",
        "        # Load the data\n",
        "        data = pd.read_excel(file_path, header=header_rows)\n",
        "        print(\"Data loaded successfully.\")\n",
        "    except Exception as e:\n",
        "        print(f\"Error loading data: {e}\")\n",
        "        return\n",
        "\n",
        "    print(f\"Data shape: {data.shape}\")\n",
        "    print(\"Column names:\", data.columns.tolist())  # Print actual column names\n",
        "\n",
        "    try:\n",
        "        # Prepare features and target variables\n",
        "        columns_to_drop = ['Pressure (bar)', 'Temperature (K)', 'Pore volume (cm³/g)',\n",
        "                           'BET surface area (m²/g)', 'Crystalinity index (%)',\n",
        "                           'Average crystal size (nm)']\n",
        "\n",
        "        # Drop only existing columns\n",
        "        X = data.drop(columns=[col for col in columns_to_drop if col in data.columns], axis=1)\n",
        "        Y = data[['Hydrogen desorption (wt%)', 'Hydrogen uptake/adsorption (wt%)']]\n",
        "\n",
        "        # Check for NaN values in target variable\n",
        "        if Y.isnull().values.any():\n",
        "            print(\"NaN values found in target variable. Dropping rows with NaN values.\")\n",
        "            data = data.dropna(subset=['Hydrogen desorption (wt%)', 'Hydrogen uptake/adsorption (wt%)'])\n",
        "            X = data.drop(columns=[col for col in columns_to_drop if col in data.columns], axis=1)\n",
        "            Y = data[['Hydrogen desorption (wt%)', 'Hydrogen uptake/adsorption (wt%)']]\n",
        "    except KeyError as e:\n",
        "        print(f\"Error with column names: {e}\")\n",
        "        return\n",
        "\n",
        "    # Select only numerical columns (excluding 'object' type)\n",
        "    X = X.select_dtypes(exclude=['object'])\n",
        "    print(f\"Feature set shape: {X.shape}, Target set shape: {Y.shape}\")\n",
        "\n",
        "    # Split the dataset into training and testing sets\n",
        "    X_train, X_test, y_train, y_test = train_test_split(X, Y, test_size=0.2, random_state=42)\n",
        "    print(\"Data split into training and testing sets.\")\n",
        "\n",
        "    # Check shapes of training data\n",
        "    print(f\"X_train shape: {X_train.shape}, y_train shape: {y_train.shape}\")\n",
        "\n",
        "    # Initialize models with hyperparameter grids\n",
        "    models = {\n",
        "        'Random Forest': (RandomForestRegressor(), {\n",
        "            'n_estimators': [50, 100, 200],\n",
        "            'max_depth': [None, 10, 20],\n",
        "            'min_samples_split': [2, 5, 10]\n",
        "        }),\n",
        "        'Decision Tree': (DecisionTreeRegressor(), {\n",
        "            'max_depth': [None, 10, 20],\n",
        "            'min_samples_split': [2, 5, 10]\n",
        "        }),\n",
        "        'XGBoost': (XGBRegressor(), {\n",
        "            'n_estimators': [50, 100, 200],\n",
        "            'max_depth': [3, 5, 7],\n",
        "            'learning_rate': [0.01, 0.1, 0.2]\n",
        "        }),\n",
        "    }\n",
        "\n",
        "    # Train and evaluate each model with hyperparameter tuning\n",
        "    for name, (model, params) in models.items():\n",
        "        print(f\"Training model: {name}...\")\n",
        "        try:\n",
        "            grid_search = GridSearchCV(model, params, cv=3, scoring='neg_mean_squared_error', verbose=1, error_score='raise')\n",
        "            grid_search.fit(X_train, y_train)\n",
        "\n",
        "            best_model = grid_search.best_estimator_\n",
        "            y_pred = best_model.predict(X_test)\n",
        "\n",
        "            mse = mean_squared_error(y_test, y_pred)\n",
        "            r2 = r2_score(y_test, y_pred)\n",
        "            mae = mean_absolute_error(y_test, y_pred)\n",
        "\n",
        "            print(f\"{name} Best Parameters: {grid_search.best_params_}\")\n",
        "            print(f\"{name} Mean Squared Error: {mse:.3f}, R² Score: {r2:.3f}, MAE: {mae:.3f}\\n\")\n",
        "        except Exception as e:\n",
        "            print(f\"Error training {name}: {e}\")\n",
        "\n",
        "# Call the function with the path to your Excel file\n",
        "ml_models('/content/Hydrogen storage dataset (1).xlsx')  # Use the correct path\n"
      ],
      "metadata": {
        "id": "Ir6sylbLYy3A",
        "colab": {
          "base_uri": "https://localhost:8080/"
        },
        "outputId": "9cbfc462-f7e7-43f3-bb8b-b3cd39c9399e"
      },
      "execution_count": null,
      "outputs": [
        {
          "output_type": "stream",
          "name": "stdout",
          "text": [
            "Data loaded successfully.\n",
            "Data shape: (539, 9)\n",
            "Column names: ['Material name', 'Average crystal size (nm)', 'Crystalinity index (%)', ' BET surface area (m²/g)', 'Pore volume (cm³/g)', 'Temperature (K)', 'Pressure (bar)', 'Hydrogen uptake/adsorption (wt%)', 'Hydrogen desorption (wt%)']\n",
            "NaN values found in target variable. Dropping rows with NaN values.\n",
            "Feature set shape: (35, 3), Target set shape: (35, 2)\n",
            "Data split into training and testing sets.\n",
            "X_train shape: (28, 3), y_train shape: (28, 2)\n",
            "Training model: Random Forest...\n",
            "Fitting 3 folds for each of 27 candidates, totalling 81 fits\n",
            "Random Forest Best Parameters: {'max_depth': 20, 'min_samples_split': 2, 'n_estimators': 50}\n",
            "Random Forest Mean Squared Error: 0.001, R² Score: 0.980, MAE: 0.019\n",
            "\n",
            "Training model: Decision Tree...\n",
            "Fitting 3 folds for each of 9 candidates, totalling 27 fits\n",
            "Decision Tree Best Parameters: {'max_depth': None, 'min_samples_split': 2}\n",
            "Decision Tree Mean Squared Error: 0.001, R² Score: 0.792, MAE: 0.022\n",
            "\n",
            "Training model: XGBoost...\n",
            "Fitting 3 folds for each of 27 candidates, totalling 81 fits\n",
            "XGBoost Best Parameters: {'learning_rate': 0.1, 'max_depth': 3, 'n_estimators': 50}\n",
            "XGBoost Mean Squared Error: 0.001, R² Score: 0.973, MAE: 0.012\n",
            "\n"
          ]
        }
      ]
    },
    {
      "cell_type": "markdown",
      "source": [
        "Feature Importance Analysis"
      ],
      "metadata": {
        "id": "UCZmnJ0F6bHB"
      }
    },
    {
      "cell_type": "code",
      "source": [
        "\n",
        "# Separate features (X) and select one target column (y)\n",
        "X = data.drop(['Pressure (bar)', 'Temperature (K)', 'Pore volume (cm³/g)', 'Crystalinity index (%)', 'Average crystal size (nm)'], axis=1)\n",
        "\n",
        "# Choose one target column for logistic regression\n",
        "y = data['Hydrogen desorption (wt%)']  # Select one column\n",
        "\n",
        "# Drop rows with NaN in both X and y\n",
        "X = X.dropna()\n",
        "y = y.dropna()\n",
        "\n",
        "# Identify categorical columns\n",
        "categorical_columns = X.select_dtypes(include=['object']).columns.tolist()\n",
        "\n",
        "# Create a column transformer\n",
        "preprocessor = ColumnTransformer(\n",
        "    transformers=[\n",
        "        ('num', StandardScaler(), X.select_dtypes(exclude=['object']).columns),  # Scale numerical columns\n",
        "        ('cat', OneHotEncoder(), categorical_columns)  # One-hot encode categorical columns\n",
        "    ])\n",
        "\n",
        "# Split the dataset into training and testing sets (80% training, 20% testing)\n",
        "X_train, X_test, y_train, y_test = train_test_split(X, y, test_size=0.2, random_state=42)\n",
        "\n",
        "# Create a pipeline that first applies preprocessing, then trains the logistic regression model\n",
        "model = Pipeline(steps=[\n",
        "    ('preprocessor', preprocessor),\n",
        "    ('classifier', LogisticRegression())\n",
        "])\n",
        "\n",
        "# Set up hyperparameters to tune\n",
        "param_grid = {\n",
        "    'classifier__C': [0.01, 0.1, 1, 10, 100],\n",
        "    'classifier__penalty': ['l1', 'l2'],\n",
        "    'classifier__solver': ['liblinear']\n",
        "}\n",
        "\n",
        "# Perform GridSearchCV\n",
        "grid_search = GridSearchCV(estimator=model, param_grid=param_grid, cv=5, n_jobs=-1, verbose=2, error_score='raise')\n",
        "grid_search.fit(X_train, y_train)\n",
        "\n",
        "# Best model\n",
        "best_model = grid_search.best_estimator_\n",
        "\n",
        "# Evaluate the model on the test set\n",
        "y_pred = best_model.predict(X_test)\n",
        "accuracy = accuracy_score(y_test, y_pred)\n",
        "print(f\"Test Accuracy: {accuracy}\")\n",
        "\n",
        "# Print the classification report\n",
        "print(classification_report(y_test, y_pred))\n",
        "\n",
        "# **Permutation Importance**\n",
        "perm_importance = permutation_importance(best_model, X_test, y_test, n_repeats=30, random_state=42)\n",
        "sorted_idx = perm_importance.importances_mean.argsort()\n",
        "\n",
        "plt.figure(figsize=(10, 6))\n",
        "plt.barh(range(len(sorted_idx)), perm_importance.importances_mean[sorted_idx], align='center')\n",
        "plt.yticks(range(len(sorted_idx)), X.columns[sorted_idx])\n",
        "plt.xlabel(\"Permutation Importance (Decrease in Accuracy)\")\n",
        "plt.title(\"Feature Importance using Permutation Importance\")\n",
        "plt.show()\n",
        "\n",
        "# **SHAP Values**\n",
        "# Use the preprocessor to transform X_train for SHAP\n",
        "X_train_transformed = best_model.named_steps['preprocessor'].transform(X_train)\n",
        "\n",
        "# Initialize the SHAP explainer\n",
        "explainer = shap.Explainer(best_model.named_steps['classifier'], X_train_transformed)\n",
        "\n",
        "# Compute SHAP values\n",
        "shap_values = explainer(X_train_transformed)\n",
        "\n",
        "# Plot the SHAP values\n",
        "shap.summary_plot(shap_values, X_train_transformed, feature_names=X.columns)\n"
      ],
      "metadata": {
        "colab": {
          "base_uri": "https://localhost:8080/",
          "height": 356
        },
        "id": "QILzaBSt6a3A",
        "outputId": "14a67042-0619-47ca-e4f5-abd64b99bfa3"
      },
      "execution_count": null,
      "outputs": [
        {
          "output_type": "error",
          "ename": "ValueError",
          "evalue": "Found input variables with inconsistent numbers of samples: [35, 151]",
          "traceback": [
            "\u001b[0;31m---------------------------------------------------------------------------\u001b[0m",
            "\u001b[0;31mValueError\u001b[0m                                Traceback (most recent call last)",
            "\u001b[0;32m<ipython-input-60-37fd4d959be1>\u001b[0m in \u001b[0;36m<cell line: 22>\u001b[0;34m()\u001b[0m\n\u001b[1;32m     20\u001b[0m \u001b[0;34m\u001b[0m\u001b[0m\n\u001b[1;32m     21\u001b[0m \u001b[0;31m# Split the dataset into training and testing sets (80% training, 20% testing)\u001b[0m\u001b[0;34m\u001b[0m\u001b[0;34m\u001b[0m\u001b[0m\n\u001b[0;32m---> 22\u001b[0;31m \u001b[0mX_train\u001b[0m\u001b[0;34m,\u001b[0m \u001b[0mX_test\u001b[0m\u001b[0;34m,\u001b[0m \u001b[0my_train\u001b[0m\u001b[0;34m,\u001b[0m \u001b[0my_test\u001b[0m \u001b[0;34m=\u001b[0m \u001b[0mtrain_test_split\u001b[0m\u001b[0;34m(\u001b[0m\u001b[0mX\u001b[0m\u001b[0;34m,\u001b[0m \u001b[0my\u001b[0m\u001b[0;34m,\u001b[0m \u001b[0mtest_size\u001b[0m\u001b[0;34m=\u001b[0m\u001b[0;36m0.2\u001b[0m\u001b[0;34m,\u001b[0m \u001b[0mrandom_state\u001b[0m\u001b[0;34m=\u001b[0m\u001b[0;36m42\u001b[0m\u001b[0;34m)\u001b[0m\u001b[0;34m\u001b[0m\u001b[0;34m\u001b[0m\u001b[0m\n\u001b[0m\u001b[1;32m     23\u001b[0m \u001b[0;34m\u001b[0m\u001b[0m\n\u001b[1;32m     24\u001b[0m \u001b[0;31m# Create a pipeline that first applies preprocessing, then trains the logistic regression model\u001b[0m\u001b[0;34m\u001b[0m\u001b[0;34m\u001b[0m\u001b[0m\n",
            "\u001b[0;32m/usr/local/lib/python3.10/dist-packages/sklearn/utils/_param_validation.py\u001b[0m in \u001b[0;36mwrapper\u001b[0;34m(*args, **kwargs)\u001b[0m\n\u001b[1;32m    211\u001b[0m                     )\n\u001b[1;32m    212\u001b[0m                 ):\n\u001b[0;32m--> 213\u001b[0;31m                     \u001b[0;32mreturn\u001b[0m \u001b[0mfunc\u001b[0m\u001b[0;34m(\u001b[0m\u001b[0;34m*\u001b[0m\u001b[0margs\u001b[0m\u001b[0;34m,\u001b[0m \u001b[0;34m**\u001b[0m\u001b[0mkwargs\u001b[0m\u001b[0;34m)\u001b[0m\u001b[0;34m\u001b[0m\u001b[0;34m\u001b[0m\u001b[0m\n\u001b[0m\u001b[1;32m    214\u001b[0m             \u001b[0;32mexcept\u001b[0m \u001b[0mInvalidParameterError\u001b[0m \u001b[0;32mas\u001b[0m \u001b[0me\u001b[0m\u001b[0;34m:\u001b[0m\u001b[0;34m\u001b[0m\u001b[0;34m\u001b[0m\u001b[0m\n\u001b[1;32m    215\u001b[0m                 \u001b[0;31m# When the function is just a wrapper around an estimator, we allow\u001b[0m\u001b[0;34m\u001b[0m\u001b[0;34m\u001b[0m\u001b[0m\n",
            "\u001b[0;32m/usr/local/lib/python3.10/dist-packages/sklearn/model_selection/_split.py\u001b[0m in \u001b[0;36mtrain_test_split\u001b[0;34m(test_size, train_size, random_state, shuffle, stratify, *arrays)\u001b[0m\n\u001b[1;32m   2780\u001b[0m         \u001b[0;32mraise\u001b[0m \u001b[0mValueError\u001b[0m\u001b[0;34m(\u001b[0m\u001b[0;34m\"At least one array required as input\"\u001b[0m\u001b[0;34m)\u001b[0m\u001b[0;34m\u001b[0m\u001b[0;34m\u001b[0m\u001b[0m\n\u001b[1;32m   2781\u001b[0m \u001b[0;34m\u001b[0m\u001b[0m\n\u001b[0;32m-> 2782\u001b[0;31m     \u001b[0marrays\u001b[0m \u001b[0;34m=\u001b[0m \u001b[0mindexable\u001b[0m\u001b[0;34m(\u001b[0m\u001b[0;34m*\u001b[0m\u001b[0marrays\u001b[0m\u001b[0;34m)\u001b[0m\u001b[0;34m\u001b[0m\u001b[0;34m\u001b[0m\u001b[0m\n\u001b[0m\u001b[1;32m   2783\u001b[0m \u001b[0;34m\u001b[0m\u001b[0m\n\u001b[1;32m   2784\u001b[0m     \u001b[0mn_samples\u001b[0m \u001b[0;34m=\u001b[0m \u001b[0m_num_samples\u001b[0m\u001b[0;34m(\u001b[0m\u001b[0marrays\u001b[0m\u001b[0;34m[\u001b[0m\u001b[0;36m0\u001b[0m\u001b[0;34m]\u001b[0m\u001b[0;34m)\u001b[0m\u001b[0;34m\u001b[0m\u001b[0;34m\u001b[0m\u001b[0m\n",
            "\u001b[0;32m/usr/local/lib/python3.10/dist-packages/sklearn/utils/validation.py\u001b[0m in \u001b[0;36mindexable\u001b[0;34m(*iterables)\u001b[0m\n\u001b[1;32m    512\u001b[0m \u001b[0;34m\u001b[0m\u001b[0m\n\u001b[1;32m    513\u001b[0m     \u001b[0mresult\u001b[0m \u001b[0;34m=\u001b[0m \u001b[0;34m[\u001b[0m\u001b[0m_make_indexable\u001b[0m\u001b[0;34m(\u001b[0m\u001b[0mX\u001b[0m\u001b[0;34m)\u001b[0m \u001b[0;32mfor\u001b[0m \u001b[0mX\u001b[0m \u001b[0;32min\u001b[0m \u001b[0miterables\u001b[0m\u001b[0;34m]\u001b[0m\u001b[0;34m\u001b[0m\u001b[0;34m\u001b[0m\u001b[0m\n\u001b[0;32m--> 514\u001b[0;31m     \u001b[0mcheck_consistent_length\u001b[0m\u001b[0;34m(\u001b[0m\u001b[0;34m*\u001b[0m\u001b[0mresult\u001b[0m\u001b[0;34m)\u001b[0m\u001b[0;34m\u001b[0m\u001b[0;34m\u001b[0m\u001b[0m\n\u001b[0m\u001b[1;32m    515\u001b[0m     \u001b[0;32mreturn\u001b[0m \u001b[0mresult\u001b[0m\u001b[0;34m\u001b[0m\u001b[0;34m\u001b[0m\u001b[0m\n\u001b[1;32m    516\u001b[0m \u001b[0;34m\u001b[0m\u001b[0m\n",
            "\u001b[0;32m/usr/local/lib/python3.10/dist-packages/sklearn/utils/validation.py\u001b[0m in \u001b[0;36mcheck_consistent_length\u001b[0;34m(*arrays)\u001b[0m\n\u001b[1;32m    455\u001b[0m     \u001b[0muniques\u001b[0m \u001b[0;34m=\u001b[0m \u001b[0mnp\u001b[0m\u001b[0;34m.\u001b[0m\u001b[0munique\u001b[0m\u001b[0;34m(\u001b[0m\u001b[0mlengths\u001b[0m\u001b[0;34m)\u001b[0m\u001b[0;34m\u001b[0m\u001b[0;34m\u001b[0m\u001b[0m\n\u001b[1;32m    456\u001b[0m     \u001b[0;32mif\u001b[0m \u001b[0mlen\u001b[0m\u001b[0;34m(\u001b[0m\u001b[0muniques\u001b[0m\u001b[0;34m)\u001b[0m \u001b[0;34m>\u001b[0m \u001b[0;36m1\u001b[0m\u001b[0;34m:\u001b[0m\u001b[0;34m\u001b[0m\u001b[0;34m\u001b[0m\u001b[0m\n\u001b[0;32m--> 457\u001b[0;31m         raise ValueError(\n\u001b[0m\u001b[1;32m    458\u001b[0m             \u001b[0;34m\"Found input variables with inconsistent numbers of samples: %r\"\u001b[0m\u001b[0;34m\u001b[0m\u001b[0;34m\u001b[0m\u001b[0m\n\u001b[1;32m    459\u001b[0m             \u001b[0;34m%\u001b[0m \u001b[0;34m[\u001b[0m\u001b[0mint\u001b[0m\u001b[0;34m(\u001b[0m\u001b[0ml\u001b[0m\u001b[0;34m)\u001b[0m \u001b[0;32mfor\u001b[0m \u001b[0ml\u001b[0m \u001b[0;32min\u001b[0m \u001b[0mlengths\u001b[0m\u001b[0;34m]\u001b[0m\u001b[0;34m\u001b[0m\u001b[0;34m\u001b[0m\u001b[0m\n",
            "\u001b[0;31mValueError\u001b[0m: Found input variables with inconsistent numbers of samples: [35, 151]"
          ]
        }
      ]
    },
    {
      "cell_type": "code",
      "source": [
        "# Import necessary libraries\n",
        "import numpy as np\n",
        "import pandas as pd\n",
        "from sklearn.model_selection import train_test_split, GridSearchCV\n",
        "from sklearn.preprocessing import StandardScaler, OneHotEncoder\n",
        "from sklearn.compose import ColumnTransformer\n",
        "from sklearn.pipeline import Pipeline\n",
        "from sklearn.linear_model import LogisticRegression\n",
        "from sklearn.metrics import accuracy_score, classification_report\n",
        "from sklearn.inspection import permutation_importance\n",
        "import shap\n",
        "import matplotlib.pyplot as plt\n",
        "\n",
        "# Separate features (X) and select one target column (y)\n",
        "X = data.drop(['Pressure (bar)', 'Temperature (K)', 'Pore volume (cm³/g)', 'Crystalinity index (%)', 'Average crystal size (nm)'], axis=1)\n",
        "\n",
        "# Choose one target column for logistic regression\n",
        "y = data['Hydrogen desorption (wt%)']  # Select one column\n",
        "\n",
        "# Drop rows with NaN in both X and y\n",
        "X = X.dropna()\n",
        "y = y.dropna()\n",
        "\n",
        "# Identify categorical columns\n",
        "categorical_columns = X.select_dtypes(include=['object']).columns.tolist()\n",
        "\n",
        "# Create a column transformer\n",
        "preprocessor = ColumnTransformer(\n",
        "    transformers=[\n",
        "        ('num', StandardScaler(), X.select_dtypes(exclude=['object']).columns),  # Scale numerical columns\n",
        "        ('cat', OneHotEncoder(), categorical_columns)  # One-hot encode categorical columns\n",
        "    ])\n",
        "\n",
        "# Split the dataset into training and testing sets (80% training, 20% testing)\n",
        "X_train, X_test, y_train, y_test = train_test_split(X, y, test_size=0.2, random_state=42)\n",
        "\n",
        "# Create a pipeline that first applies preprocessing, then trains the logistic regression model\n",
        "model = Pipeline(steps=[\n",
        "    ('preprocessor', preprocessor),\n",
        "    ('classifier', LogisticRegression())\n",
        "])\n",
        "\n",
        "# Set up hyperparameters to tune\n",
        "param_grid = {\n",
        "    'classifier__C': [0.01, 0.1, 1, 10, 100],\n",
        "    'classifier__penalty': ['l1', 'l2'],\n",
        "    'classifier__solver': ['liblinear']\n",
        "}\n",
        "\n",
        "# Perform GridSearchCV\n",
        "grid_search = GridSearchCV(estimator=model, param_grid=param_grid, cv=5, n_jobs=-1, verbose=2, error_score='raise')\n",
        "grid_search.fit(X_train, y_train)\n",
        "\n",
        "# Best model\n",
        "best_model = grid_search.best_estimator_\n",
        "\n",
        "# Evaluate the model on the test set\n",
        "y_pred = best_model.predict(X_test)\n",
        "accuracy = accuracy_score(y_test, y_pred)\n",
        "print(f\"Test Accuracy: {accuracy}\")\n",
        "\n",
        "# Print the classification report\n",
        "print(classification_report(y_test, y_pred))\n",
        "\n",
        "# **Permutation Importance**\n",
        "perm_importance = permutation_importance(best_model, X_test, y_test, n_repeats=30, random_state=42)\n",
        "sorted_idx = perm_importance.importances_mean.argsort()\n",
        "\n",
        "plt.figure(figsize=(10, 6))\n",
        "plt.barh(range(len(sorted_idx)), perm_importance.importances_mean[sorted_idx], align='center')\n",
        "plt.yticks(range(len(sorted_idx)), X.columns[sorted_idx])\n",
        "plt.xlabel(\"Permutation Importance (Decrease in Accuracy)\")\n",
        "plt.title(\"Feature Importance using Permutation Importance\")\n",
        "plt.show()\n",
        "\n",
        "# **SHAP Values**\n",
        "# Use the preprocessor to transform X_train for SHAP\n",
        "X_train_transformed = best_model.named_steps['preprocessor'].transform(X_train)\n",
        "\n",
        "# Initialize the SHAP explainer\n",
        "explainer = shap.Explainer(best_model.named_steps['classifier'], X_train_transformed)\n",
        "\n",
        "# Compute SHAP values\n",
        "shap_values = explainer(X_train_transformed)\n",
        "\n",
        "# Plot the SHAP values\n",
        "shap.summary_plot(shap_values, X_train_transformed, feature_names=X.columns)\n"
      ],
      "metadata": {
        "colab": {
          "base_uri": "https://localhost:8080/",
          "height": 356
        },
        "id": "SXwyg6At9WY6",
        "outputId": "d51c22b6-1286-47a4-e992-591dfd503bb4"
      },
      "execution_count": null,
      "outputs": [
        {
          "output_type": "error",
          "ename": "ValueError",
          "evalue": "Found input variables with inconsistent numbers of samples: [35, 151]",
          "traceback": [
            "\u001b[0;31m---------------------------------------------------------------------------\u001b[0m",
            "\u001b[0;31mValueError\u001b[0m                                Traceback (most recent call last)",
            "\u001b[0;32m<ipython-input-61-a4d2d653bb2d>\u001b[0m in \u001b[0;36m<cell line: 35>\u001b[0;34m()\u001b[0m\n\u001b[1;32m     33\u001b[0m \u001b[0;34m\u001b[0m\u001b[0m\n\u001b[1;32m     34\u001b[0m \u001b[0;31m# Split the dataset into training and testing sets (80% training, 20% testing)\u001b[0m\u001b[0;34m\u001b[0m\u001b[0;34m\u001b[0m\u001b[0m\n\u001b[0;32m---> 35\u001b[0;31m \u001b[0mX_train\u001b[0m\u001b[0;34m,\u001b[0m \u001b[0mX_test\u001b[0m\u001b[0;34m,\u001b[0m \u001b[0my_train\u001b[0m\u001b[0;34m,\u001b[0m \u001b[0my_test\u001b[0m \u001b[0;34m=\u001b[0m \u001b[0mtrain_test_split\u001b[0m\u001b[0;34m(\u001b[0m\u001b[0mX\u001b[0m\u001b[0;34m,\u001b[0m \u001b[0my\u001b[0m\u001b[0;34m,\u001b[0m \u001b[0mtest_size\u001b[0m\u001b[0;34m=\u001b[0m\u001b[0;36m0.2\u001b[0m\u001b[0;34m,\u001b[0m \u001b[0mrandom_state\u001b[0m\u001b[0;34m=\u001b[0m\u001b[0;36m42\u001b[0m\u001b[0;34m)\u001b[0m\u001b[0;34m\u001b[0m\u001b[0;34m\u001b[0m\u001b[0m\n\u001b[0m\u001b[1;32m     36\u001b[0m \u001b[0;34m\u001b[0m\u001b[0m\n\u001b[1;32m     37\u001b[0m \u001b[0;31m# Create a pipeline that first applies preprocessing, then trains the logistic regression model\u001b[0m\u001b[0;34m\u001b[0m\u001b[0;34m\u001b[0m\u001b[0m\n",
            "\u001b[0;32m/usr/local/lib/python3.10/dist-packages/sklearn/utils/_param_validation.py\u001b[0m in \u001b[0;36mwrapper\u001b[0;34m(*args, **kwargs)\u001b[0m\n\u001b[1;32m    211\u001b[0m                     )\n\u001b[1;32m    212\u001b[0m                 ):\n\u001b[0;32m--> 213\u001b[0;31m                     \u001b[0;32mreturn\u001b[0m \u001b[0mfunc\u001b[0m\u001b[0;34m(\u001b[0m\u001b[0;34m*\u001b[0m\u001b[0margs\u001b[0m\u001b[0;34m,\u001b[0m \u001b[0;34m**\u001b[0m\u001b[0mkwargs\u001b[0m\u001b[0;34m)\u001b[0m\u001b[0;34m\u001b[0m\u001b[0;34m\u001b[0m\u001b[0m\n\u001b[0m\u001b[1;32m    214\u001b[0m             \u001b[0;32mexcept\u001b[0m \u001b[0mInvalidParameterError\u001b[0m \u001b[0;32mas\u001b[0m \u001b[0me\u001b[0m\u001b[0;34m:\u001b[0m\u001b[0;34m\u001b[0m\u001b[0;34m\u001b[0m\u001b[0m\n\u001b[1;32m    215\u001b[0m                 \u001b[0;31m# When the function is just a wrapper around an estimator, we allow\u001b[0m\u001b[0;34m\u001b[0m\u001b[0;34m\u001b[0m\u001b[0m\n",
            "\u001b[0;32m/usr/local/lib/python3.10/dist-packages/sklearn/model_selection/_split.py\u001b[0m in \u001b[0;36mtrain_test_split\u001b[0;34m(test_size, train_size, random_state, shuffle, stratify, *arrays)\u001b[0m\n\u001b[1;32m   2780\u001b[0m         \u001b[0;32mraise\u001b[0m \u001b[0mValueError\u001b[0m\u001b[0;34m(\u001b[0m\u001b[0;34m\"At least one array required as input\"\u001b[0m\u001b[0;34m)\u001b[0m\u001b[0;34m\u001b[0m\u001b[0;34m\u001b[0m\u001b[0m\n\u001b[1;32m   2781\u001b[0m \u001b[0;34m\u001b[0m\u001b[0m\n\u001b[0;32m-> 2782\u001b[0;31m     \u001b[0marrays\u001b[0m \u001b[0;34m=\u001b[0m \u001b[0mindexable\u001b[0m\u001b[0;34m(\u001b[0m\u001b[0;34m*\u001b[0m\u001b[0marrays\u001b[0m\u001b[0;34m)\u001b[0m\u001b[0;34m\u001b[0m\u001b[0;34m\u001b[0m\u001b[0m\n\u001b[0m\u001b[1;32m   2783\u001b[0m \u001b[0;34m\u001b[0m\u001b[0m\n\u001b[1;32m   2784\u001b[0m     \u001b[0mn_samples\u001b[0m \u001b[0;34m=\u001b[0m \u001b[0m_num_samples\u001b[0m\u001b[0;34m(\u001b[0m\u001b[0marrays\u001b[0m\u001b[0;34m[\u001b[0m\u001b[0;36m0\u001b[0m\u001b[0;34m]\u001b[0m\u001b[0;34m)\u001b[0m\u001b[0;34m\u001b[0m\u001b[0;34m\u001b[0m\u001b[0m\n",
            "\u001b[0;32m/usr/local/lib/python3.10/dist-packages/sklearn/utils/validation.py\u001b[0m in \u001b[0;36mindexable\u001b[0;34m(*iterables)\u001b[0m\n\u001b[1;32m    512\u001b[0m \u001b[0;34m\u001b[0m\u001b[0m\n\u001b[1;32m    513\u001b[0m     \u001b[0mresult\u001b[0m \u001b[0;34m=\u001b[0m \u001b[0;34m[\u001b[0m\u001b[0m_make_indexable\u001b[0m\u001b[0;34m(\u001b[0m\u001b[0mX\u001b[0m\u001b[0;34m)\u001b[0m \u001b[0;32mfor\u001b[0m \u001b[0mX\u001b[0m \u001b[0;32min\u001b[0m \u001b[0miterables\u001b[0m\u001b[0;34m]\u001b[0m\u001b[0;34m\u001b[0m\u001b[0;34m\u001b[0m\u001b[0m\n\u001b[0;32m--> 514\u001b[0;31m     \u001b[0mcheck_consistent_length\u001b[0m\u001b[0;34m(\u001b[0m\u001b[0;34m*\u001b[0m\u001b[0mresult\u001b[0m\u001b[0;34m)\u001b[0m\u001b[0;34m\u001b[0m\u001b[0;34m\u001b[0m\u001b[0m\n\u001b[0m\u001b[1;32m    515\u001b[0m     \u001b[0;32mreturn\u001b[0m \u001b[0mresult\u001b[0m\u001b[0;34m\u001b[0m\u001b[0;34m\u001b[0m\u001b[0m\n\u001b[1;32m    516\u001b[0m \u001b[0;34m\u001b[0m\u001b[0m\n",
            "\u001b[0;32m/usr/local/lib/python3.10/dist-packages/sklearn/utils/validation.py\u001b[0m in \u001b[0;36mcheck_consistent_length\u001b[0;34m(*arrays)\u001b[0m\n\u001b[1;32m    455\u001b[0m     \u001b[0muniques\u001b[0m \u001b[0;34m=\u001b[0m \u001b[0mnp\u001b[0m\u001b[0;34m.\u001b[0m\u001b[0munique\u001b[0m\u001b[0;34m(\u001b[0m\u001b[0mlengths\u001b[0m\u001b[0;34m)\u001b[0m\u001b[0;34m\u001b[0m\u001b[0;34m\u001b[0m\u001b[0m\n\u001b[1;32m    456\u001b[0m     \u001b[0;32mif\u001b[0m \u001b[0mlen\u001b[0m\u001b[0;34m(\u001b[0m\u001b[0muniques\u001b[0m\u001b[0;34m)\u001b[0m \u001b[0;34m>\u001b[0m \u001b[0;36m1\u001b[0m\u001b[0;34m:\u001b[0m\u001b[0;34m\u001b[0m\u001b[0;34m\u001b[0m\u001b[0m\n\u001b[0;32m--> 457\u001b[0;31m         raise ValueError(\n\u001b[0m\u001b[1;32m    458\u001b[0m             \u001b[0;34m\"Found input variables with inconsistent numbers of samples: %r\"\u001b[0m\u001b[0;34m\u001b[0m\u001b[0;34m\u001b[0m\u001b[0m\n\u001b[1;32m    459\u001b[0m             \u001b[0;34m%\u001b[0m \u001b[0;34m[\u001b[0m\u001b[0mint\u001b[0m\u001b[0;34m(\u001b[0m\u001b[0ml\u001b[0m\u001b[0;34m)\u001b[0m \u001b[0;32mfor\u001b[0m \u001b[0ml\u001b[0m \u001b[0;32min\u001b[0m \u001b[0mlengths\u001b[0m\u001b[0;34m]\u001b[0m\u001b[0;34m\u001b[0m\u001b[0;34m\u001b[0m\u001b[0m\n",
            "\u001b[0;31mValueError\u001b[0m: Found input variables with inconsistent numbers of samples: [35, 151]"
          ]
        }
      ]
    },
    {
      "cell_type": "code",
      "source": [
        "# Import necessary libraries\n",
        "import numpy as np\n",
        "import pandas as pd\n",
        "from sklearn.model_selection import train_test_split, GridSearchCV\n",
        "from sklearn.preprocessing import StandardScaler, OneHotEncoder\n",
        "from sklearn.compose import ColumnTransformer\n",
        "from sklearn.pipeline import Pipeline\n",
        "from sklearn.linear_model import LogisticRegression\n",
        "from sklearn.metrics import accuracy_score, classification_report\n",
        "from sklearn.inspection import permutation_importance\n",
        "import shap\n",
        "import matplotlib.pyplot as plt\n",
        "\n",
        "# Assume `data` is your DataFrame\n",
        "\n",
        "# Separate features (X) and select one target column (y)\n",
        "X = data.drop(['Pressure (bar)', 'Temperature (K)', 'Pore volume (cm³/g)', 'Crystalinity index (%)', 'Average crystal size (nm)'], axis=1)\n",
        "\n",
        "# Choose one target column for logistic regression\n",
        "y = data['Hydrogen desorption (wt%)']  # Select one column\n",
        "\n",
        "# Drop rows with NaN in both X and y (this ensures consistent lengths)\n",
        "X = X.loc[y.notna()].dropna()  # Drop NaN from X based on y's NaN\n",
        "y = y.dropna()  # Drop NaN from y\n",
        "\n",
        "# Ensure that X and y are aligned after dropping NaNs\n",
        "X = X.loc[y.index]\n",
        "\n",
        "# Identify categorical columns\n",
        "categorical_columns = X.select_dtypes(include=['object']).columns.tolist()\n",
        "\n",
        "# Create a column transformer\n",
        "preprocessor = ColumnTransformer(\n",
        "    transformers=[\n",
        "        ('num', StandardScaler(), X.select_dtypes(exclude=['object']).columns),  # Scale numerical columns\n",
        "        ('cat', OneHotEncoder(), categorical_columns)  # One-hot encode categorical columns\n",
        "    ])\n",
        "\n",
        "# Split the dataset into training and testing sets (80% training, 20% testing)\n",
        "X_train, X_test, y_train, y_test = train_test_split(X, y, test_size=0.2, random_state=42)\n",
        "\n",
        "# Create a pipeline that first applies preprocessing, then trains the logistic regression model\n",
        "model = Pipeline(steps=[\n",
        "    ('preprocessor', preprocessor),\n",
        "    ('classifier', LogisticRegression())\n",
        "])\n",
        "\n",
        "# Set up hyperparameters to tune\n",
        "param_grid = {\n",
        "    'classifier__C': [0.01, 0.1, 1, 10, 100],\n",
        "    'classifier__penalty': ['l1', 'l2'],\n",
        "    'classifier__solver': ['liblinear']\n",
        "}\n",
        "\n",
        "# Perform GridSearchCV\n",
        "grid_search = GridSearchCV(estimator=model, param_grid=param_grid, cv=5, n_jobs=-1, verbose=2, error_score='raise')\n",
        "grid_search.fit(X_train, y_train)\n",
        "\n",
        "# Best model\n",
        "best_model = grid_search.best_estimator_\n",
        "\n",
        "# Evaluate the model on the test set\n",
        "y_pred = best_model.predict(X_test)\n",
        "accuracy = accuracy_score(y_test, y_pred)\n",
        "print(f\"Test Accuracy: {accuracy}\")\n",
        "\n",
        "# Print the classification report\n",
        "print(classification_report(y_test, y_pred))\n",
        "\n",
        "# **Permutation Importance**\n",
        "perm_importance = permutation_importance(best_model, X_test, y_test, n_repeats=30, random_state=42)\n",
        "sorted_idx = perm_importance.importances_mean.argsort()\n",
        "\n",
        "plt.figure(figsize=(10, 6))\n",
        "plt.barh(range(len(sorted_idx)), perm_importance.importances_mean[sorted_idx], align='center')\n",
        "plt.yticks(range(len(sorted_idx)), X.columns[sorted_idx])\n",
        "plt.xlabel(\"Permutation Importance (Decrease in Accuracy)\")\n",
        "plt.title(\"Feature Importance using Permutation Importance\")\n",
        "plt.show()\n",
        "\n",
        "# **SHAP Values**\n",
        "# Use the preprocessor to transform X_train for SHAP\n",
        "X_train_transformed = best_model.named_steps['preprocessor'].transform(X_train)\n",
        "\n",
        "# Initialize the SHAP explainer\n",
        "explainer = shap.Explainer(best_model.named_steps['classifier'], X_train_transformed)\n",
        "\n",
        "# Compute SHAP values\n",
        "shap_values = explainer(X_train_transformed)\n",
        "\n",
        "# Plot the SHAP values\n",
        "shap.summary_plot(shap_values, X_train_transformed, feature_names=X.columns)\n"
      ],
      "metadata": {
        "colab": {
          "base_uri": "https://localhost:8080/",
          "height": 460
        },
        "id": "b29tpPQn9mX1",
        "outputId": "4f13dbb2-28cb-40ae-d283-52d688986a00"
      },
      "execution_count": null,
      "outputs": [
        {
          "output_type": "error",
          "ename": "KeyError",
          "evalue": "'[83, 84, 85, 86, 87, 88, 89, 90, 91, 92, 93, 94, 95, 96, 97, 98, 99, 100, 101, 102, 103, 104, 105, 106, 107, 108, 109, 110, 111, 112, 113, 114, 115, 166, 167, 168, 169, 170, 171, 172, 173, 174, 175, 176, 177, 178, 179, 180, 181, 182, 183, 184, 185, 186, 187, 188, 189, 190, 191, 192, 286, 438, 439, 440, 441, 442, 443, 444, 445, 446, 447, 448, 449, 450, 451, 452, 453, 454, 455, 456, 457, 458, 459, 460, 461, 462, 463, 464, 465, 466, 467, 487, 488, 489, 490, 491, 492, 493, 494, 495, 496, 511, 512, 513, 514, 515, 516, 517, 518, 532, 533, 534, 535, 536, 537, 538] not in index'",
          "traceback": [
            "\u001b[0;31m---------------------------------------------------------------------------\u001b[0m",
            "\u001b[0;31mKeyError\u001b[0m                                  Traceback (most recent call last)",
            "\u001b[0;32m<ipython-input-62-1a629ac1192a>\u001b[0m in \u001b[0;36m<cell line: 27>\u001b[0;34m()\u001b[0m\n\u001b[1;32m     25\u001b[0m \u001b[0;34m\u001b[0m\u001b[0m\n\u001b[1;32m     26\u001b[0m \u001b[0;31m# Ensure that X and y are aligned after dropping NaNs\u001b[0m\u001b[0;34m\u001b[0m\u001b[0;34m\u001b[0m\u001b[0m\n\u001b[0;32m---> 27\u001b[0;31m \u001b[0mX\u001b[0m \u001b[0;34m=\u001b[0m \u001b[0mX\u001b[0m\u001b[0;34m.\u001b[0m\u001b[0mloc\u001b[0m\u001b[0;34m[\u001b[0m\u001b[0my\u001b[0m\u001b[0;34m.\u001b[0m\u001b[0mindex\u001b[0m\u001b[0;34m]\u001b[0m\u001b[0;34m\u001b[0m\u001b[0;34m\u001b[0m\u001b[0m\n\u001b[0m\u001b[1;32m     28\u001b[0m \u001b[0;34m\u001b[0m\u001b[0m\n\u001b[1;32m     29\u001b[0m \u001b[0;31m# Identify categorical columns\u001b[0m\u001b[0;34m\u001b[0m\u001b[0;34m\u001b[0m\u001b[0m\n",
            "\u001b[0;32m/usr/local/lib/python3.10/dist-packages/pandas/core/indexing.py\u001b[0m in \u001b[0;36m__getitem__\u001b[0;34m(self, key)\u001b[0m\n\u001b[1;32m   1189\u001b[0m             \u001b[0mmaybe_callable\u001b[0m \u001b[0;34m=\u001b[0m \u001b[0mcom\u001b[0m\u001b[0;34m.\u001b[0m\u001b[0mapply_if_callable\u001b[0m\u001b[0;34m(\u001b[0m\u001b[0mkey\u001b[0m\u001b[0;34m,\u001b[0m \u001b[0mself\u001b[0m\u001b[0;34m.\u001b[0m\u001b[0mobj\u001b[0m\u001b[0;34m)\u001b[0m\u001b[0;34m\u001b[0m\u001b[0;34m\u001b[0m\u001b[0m\n\u001b[1;32m   1190\u001b[0m             \u001b[0mmaybe_callable\u001b[0m \u001b[0;34m=\u001b[0m \u001b[0mself\u001b[0m\u001b[0;34m.\u001b[0m\u001b[0m_check_deprecated_callable_usage\u001b[0m\u001b[0;34m(\u001b[0m\u001b[0mkey\u001b[0m\u001b[0;34m,\u001b[0m \u001b[0mmaybe_callable\u001b[0m\u001b[0;34m)\u001b[0m\u001b[0;34m\u001b[0m\u001b[0;34m\u001b[0m\u001b[0m\n\u001b[0;32m-> 1191\u001b[0;31m             \u001b[0;32mreturn\u001b[0m \u001b[0mself\u001b[0m\u001b[0;34m.\u001b[0m\u001b[0m_getitem_axis\u001b[0m\u001b[0;34m(\u001b[0m\u001b[0mmaybe_callable\u001b[0m\u001b[0;34m,\u001b[0m \u001b[0maxis\u001b[0m\u001b[0;34m=\u001b[0m\u001b[0maxis\u001b[0m\u001b[0;34m)\u001b[0m\u001b[0;34m\u001b[0m\u001b[0;34m\u001b[0m\u001b[0m\n\u001b[0m\u001b[1;32m   1192\u001b[0m \u001b[0;34m\u001b[0m\u001b[0m\n\u001b[1;32m   1193\u001b[0m     \u001b[0;32mdef\u001b[0m \u001b[0m_is_scalar_access\u001b[0m\u001b[0;34m(\u001b[0m\u001b[0mself\u001b[0m\u001b[0;34m,\u001b[0m \u001b[0mkey\u001b[0m\u001b[0;34m:\u001b[0m \u001b[0mtuple\u001b[0m\u001b[0;34m)\u001b[0m\u001b[0;34m:\u001b[0m\u001b[0;34m\u001b[0m\u001b[0;34m\u001b[0m\u001b[0m\n",
            "\u001b[0;32m/usr/local/lib/python3.10/dist-packages/pandas/core/indexing.py\u001b[0m in \u001b[0;36m_getitem_axis\u001b[0;34m(self, key, axis)\u001b[0m\n\u001b[1;32m   1418\u001b[0m                     \u001b[0;32mraise\u001b[0m \u001b[0mValueError\u001b[0m\u001b[0;34m(\u001b[0m\u001b[0;34m\"Cannot index with multidimensional key\"\u001b[0m\u001b[0;34m)\u001b[0m\u001b[0;34m\u001b[0m\u001b[0;34m\u001b[0m\u001b[0m\n\u001b[1;32m   1419\u001b[0m \u001b[0;34m\u001b[0m\u001b[0m\n\u001b[0;32m-> 1420\u001b[0;31m                 \u001b[0;32mreturn\u001b[0m \u001b[0mself\u001b[0m\u001b[0;34m.\u001b[0m\u001b[0m_getitem_iterable\u001b[0m\u001b[0;34m(\u001b[0m\u001b[0mkey\u001b[0m\u001b[0;34m,\u001b[0m \u001b[0maxis\u001b[0m\u001b[0;34m=\u001b[0m\u001b[0maxis\u001b[0m\u001b[0;34m)\u001b[0m\u001b[0;34m\u001b[0m\u001b[0;34m\u001b[0m\u001b[0m\n\u001b[0m\u001b[1;32m   1421\u001b[0m \u001b[0;34m\u001b[0m\u001b[0m\n\u001b[1;32m   1422\u001b[0m             \u001b[0;31m# nested tuple slicing\u001b[0m\u001b[0;34m\u001b[0m\u001b[0;34m\u001b[0m\u001b[0m\n",
            "\u001b[0;32m/usr/local/lib/python3.10/dist-packages/pandas/core/indexing.py\u001b[0m in \u001b[0;36m_getitem_iterable\u001b[0;34m(self, key, axis)\u001b[0m\n\u001b[1;32m   1358\u001b[0m \u001b[0;34m\u001b[0m\u001b[0m\n\u001b[1;32m   1359\u001b[0m         \u001b[0;31m# A collection of keys\u001b[0m\u001b[0;34m\u001b[0m\u001b[0;34m\u001b[0m\u001b[0m\n\u001b[0;32m-> 1360\u001b[0;31m         \u001b[0mkeyarr\u001b[0m\u001b[0;34m,\u001b[0m \u001b[0mindexer\u001b[0m \u001b[0;34m=\u001b[0m \u001b[0mself\u001b[0m\u001b[0;34m.\u001b[0m\u001b[0m_get_listlike_indexer\u001b[0m\u001b[0;34m(\u001b[0m\u001b[0mkey\u001b[0m\u001b[0;34m,\u001b[0m \u001b[0maxis\u001b[0m\u001b[0;34m)\u001b[0m\u001b[0;34m\u001b[0m\u001b[0;34m\u001b[0m\u001b[0m\n\u001b[0m\u001b[1;32m   1361\u001b[0m         return self.obj._reindex_with_indexers(\n\u001b[1;32m   1362\u001b[0m             \u001b[0;34m{\u001b[0m\u001b[0maxis\u001b[0m\u001b[0;34m:\u001b[0m \u001b[0;34m[\u001b[0m\u001b[0mkeyarr\u001b[0m\u001b[0;34m,\u001b[0m \u001b[0mindexer\u001b[0m\u001b[0;34m]\u001b[0m\u001b[0;34m}\u001b[0m\u001b[0;34m,\u001b[0m \u001b[0mcopy\u001b[0m\u001b[0;34m=\u001b[0m\u001b[0;32mTrue\u001b[0m\u001b[0;34m,\u001b[0m \u001b[0mallow_dups\u001b[0m\u001b[0;34m=\u001b[0m\u001b[0;32mTrue\u001b[0m\u001b[0;34m\u001b[0m\u001b[0;34m\u001b[0m\u001b[0m\n",
            "\u001b[0;32m/usr/local/lib/python3.10/dist-packages/pandas/core/indexing.py\u001b[0m in \u001b[0;36m_get_listlike_indexer\u001b[0;34m(self, key, axis)\u001b[0m\n\u001b[1;32m   1556\u001b[0m         \u001b[0maxis_name\u001b[0m \u001b[0;34m=\u001b[0m \u001b[0mself\u001b[0m\u001b[0;34m.\u001b[0m\u001b[0mobj\u001b[0m\u001b[0;34m.\u001b[0m\u001b[0m_get_axis_name\u001b[0m\u001b[0;34m(\u001b[0m\u001b[0maxis\u001b[0m\u001b[0;34m)\u001b[0m\u001b[0;34m\u001b[0m\u001b[0;34m\u001b[0m\u001b[0m\n\u001b[1;32m   1557\u001b[0m \u001b[0;34m\u001b[0m\u001b[0m\n\u001b[0;32m-> 1558\u001b[0;31m         \u001b[0mkeyarr\u001b[0m\u001b[0;34m,\u001b[0m \u001b[0mindexer\u001b[0m \u001b[0;34m=\u001b[0m \u001b[0max\u001b[0m\u001b[0;34m.\u001b[0m\u001b[0m_get_indexer_strict\u001b[0m\u001b[0;34m(\u001b[0m\u001b[0mkey\u001b[0m\u001b[0;34m,\u001b[0m \u001b[0maxis_name\u001b[0m\u001b[0;34m)\u001b[0m\u001b[0;34m\u001b[0m\u001b[0;34m\u001b[0m\u001b[0m\n\u001b[0m\u001b[1;32m   1559\u001b[0m \u001b[0;34m\u001b[0m\u001b[0m\n\u001b[1;32m   1560\u001b[0m         \u001b[0;32mreturn\u001b[0m \u001b[0mkeyarr\u001b[0m\u001b[0;34m,\u001b[0m \u001b[0mindexer\u001b[0m\u001b[0;34m\u001b[0m\u001b[0;34m\u001b[0m\u001b[0m\n",
            "\u001b[0;32m/usr/local/lib/python3.10/dist-packages/pandas/core/indexes/base.py\u001b[0m in \u001b[0;36m_get_indexer_strict\u001b[0;34m(self, key, axis_name)\u001b[0m\n\u001b[1;32m   6198\u001b[0m             \u001b[0mkeyarr\u001b[0m\u001b[0;34m,\u001b[0m \u001b[0mindexer\u001b[0m\u001b[0;34m,\u001b[0m \u001b[0mnew_indexer\u001b[0m \u001b[0;34m=\u001b[0m \u001b[0mself\u001b[0m\u001b[0;34m.\u001b[0m\u001b[0m_reindex_non_unique\u001b[0m\u001b[0;34m(\u001b[0m\u001b[0mkeyarr\u001b[0m\u001b[0;34m)\u001b[0m\u001b[0;34m\u001b[0m\u001b[0;34m\u001b[0m\u001b[0m\n\u001b[1;32m   6199\u001b[0m \u001b[0;34m\u001b[0m\u001b[0m\n\u001b[0;32m-> 6200\u001b[0;31m         \u001b[0mself\u001b[0m\u001b[0;34m.\u001b[0m\u001b[0m_raise_if_missing\u001b[0m\u001b[0;34m(\u001b[0m\u001b[0mkeyarr\u001b[0m\u001b[0;34m,\u001b[0m \u001b[0mindexer\u001b[0m\u001b[0;34m,\u001b[0m \u001b[0maxis_name\u001b[0m\u001b[0;34m)\u001b[0m\u001b[0;34m\u001b[0m\u001b[0;34m\u001b[0m\u001b[0m\n\u001b[0m\u001b[1;32m   6201\u001b[0m \u001b[0;34m\u001b[0m\u001b[0m\n\u001b[1;32m   6202\u001b[0m         \u001b[0mkeyarr\u001b[0m \u001b[0;34m=\u001b[0m \u001b[0mself\u001b[0m\u001b[0;34m.\u001b[0m\u001b[0mtake\u001b[0m\u001b[0;34m(\u001b[0m\u001b[0mindexer\u001b[0m\u001b[0;34m)\u001b[0m\u001b[0;34m\u001b[0m\u001b[0;34m\u001b[0m\u001b[0m\n",
            "\u001b[0;32m/usr/local/lib/python3.10/dist-packages/pandas/core/indexes/base.py\u001b[0m in \u001b[0;36m_raise_if_missing\u001b[0;34m(self, key, indexer, axis_name)\u001b[0m\n\u001b[1;32m   6250\u001b[0m \u001b[0;34m\u001b[0m\u001b[0m\n\u001b[1;32m   6251\u001b[0m             \u001b[0mnot_found\u001b[0m \u001b[0;34m=\u001b[0m \u001b[0mlist\u001b[0m\u001b[0;34m(\u001b[0m\u001b[0mensure_index\u001b[0m\u001b[0;34m(\u001b[0m\u001b[0mkey\u001b[0m\u001b[0;34m)\u001b[0m\u001b[0;34m[\u001b[0m\u001b[0mmissing_mask\u001b[0m\u001b[0;34m.\u001b[0m\u001b[0mnonzero\u001b[0m\u001b[0;34m(\u001b[0m\u001b[0;34m)\u001b[0m\u001b[0;34m[\u001b[0m\u001b[0;36m0\u001b[0m\u001b[0;34m]\u001b[0m\u001b[0;34m]\u001b[0m\u001b[0;34m.\u001b[0m\u001b[0munique\u001b[0m\u001b[0;34m(\u001b[0m\u001b[0;34m)\u001b[0m\u001b[0;34m)\u001b[0m\u001b[0;34m\u001b[0m\u001b[0;34m\u001b[0m\u001b[0m\n\u001b[0;32m-> 6252\u001b[0;31m             \u001b[0;32mraise\u001b[0m \u001b[0mKeyError\u001b[0m\u001b[0;34m(\u001b[0m\u001b[0;34mf\"{not_found} not in index\"\u001b[0m\u001b[0;34m)\u001b[0m\u001b[0;34m\u001b[0m\u001b[0;34m\u001b[0m\u001b[0m\n\u001b[0m\u001b[1;32m   6253\u001b[0m \u001b[0;34m\u001b[0m\u001b[0m\n\u001b[1;32m   6254\u001b[0m     \u001b[0;34m@\u001b[0m\u001b[0moverload\u001b[0m\u001b[0;34m\u001b[0m\u001b[0;34m\u001b[0m\u001b[0m\n",
            "\u001b[0;31mKeyError\u001b[0m: '[83, 84, 85, 86, 87, 88, 89, 90, 91, 92, 93, 94, 95, 96, 97, 98, 99, 100, 101, 102, 103, 104, 105, 106, 107, 108, 109, 110, 111, 112, 113, 114, 115, 166, 167, 168, 169, 170, 171, 172, 173, 174, 175, 176, 177, 178, 179, 180, 181, 182, 183, 184, 185, 186, 187, 188, 189, 190, 191, 192, 286, 438, 439, 440, 441, 442, 443, 444, 445, 446, 447, 448, 449, 450, 451, 452, 453, 454, 455, 456, 457, 458, 459, 460, 461, 462, 463, 464, 465, 466, 467, 487, 488, 489, 490, 491, 492, 493, 494, 495, 496, 511, 512, 513, 514, 515, 516, 517, 518, 532, 533, 534, 535, 536, 537, 538] not in index'"
          ]
        }
      ]
    },
    {
      "cell_type": "code",
      "source": [
        "\n",
        "# Assume `data` is your DataFrame\n",
        "\n",
        "# Separate features (X) and select one target column (y)\n",
        "X = data.drop(['Pressure (bar)', 'Temperature (K)', 'Pore volume (cm³/g)', 'Crystalinity index (%)', 'Average crystal size (nm)'], axis=1)\n",
        "\n",
        "# Choose one target column for logistic regression\n",
        "y = data['Hydrogen desorption (wt%)']  # Select one column\n",
        "\n",
        "# Drop rows with NaN in X or y to ensure they are aligned\n",
        "valid_indices = X.index[y.notna()]\n",
        "X = X.loc[valid_indices]\n",
        "y = y.loc[valid_indices]  # Align y based on valid indices\n",
        "\n",
        "# Identify categorical columns\n",
        "categorical_columns = X.select_dtypes(include=['object']).columns.tolist()\n",
        "\n",
        "# Create a column transformer\n",
        "preprocessor = ColumnTransformer(\n",
        "    transformers=[\n",
        "        ('num', StandardScaler(), X.select_dtypes(exclude=['object']).columns),  # Scale numerical columns\n",
        "        ('cat', OneHotEncoder(), categorical_columns)  # One-hot encode categorical columns\n",
        "    ])\n",
        "\n",
        "# Split the dataset into training and testing sets (80% training, 20% testing)\n",
        "X_train, X_test, y_train, y_test = train_test_split(X, y, test_size=0.2, random_state=42)\n",
        "\n",
        "# Create a pipeline that first applies preprocessing, then trains the logistic regression model\n",
        "model = Pipeline(steps=[\n",
        "    ('preprocessor', preprocessor),\n",
        "    ('classifier', LogisticRegression())\n",
        "])\n",
        "\n",
        "# Set up hyperparameters to tune\n",
        "param_grid = {\n",
        "    'classifier__C': [0.01, 0.1, 1, 10, 100],\n",
        "    'classifier__penalty': ['l1', 'l2'],\n",
        "    'classifier__solver': ['liblinear']\n",
        "}\n",
        "\n",
        "# Perform GridSearchCV\n",
        "grid_search = GridSearchCV(estimator=model, param_grid=param_grid, cv=5, n_jobs=-1, verbose=2, error_score='raise')\n",
        "grid_search.fit(X_train, y_train)\n",
        "\n",
        "# Best model\n",
        "best_model = grid_search.best_estimator_\n",
        "\n",
        "# Evaluate the model on the test set\n",
        "y_pred = best_model.predict(X_test)\n",
        "accuracy = accuracy_score(y_test, y_pred)\n",
        "print(f\"Test Accuracy: {accuracy}\")\n",
        "\n",
        "# Print the classification report\n",
        "print(classification_report(y_test, y_pred))\n",
        "\n",
        "# **Permutation Importance**\n",
        "perm_importance = permutation_importance(best_model, X_test, y_test, n_repeats=30, random_state=42)\n",
        "sorted_idx = perm_importance.importances_mean.argsort()\n",
        "\n",
        "plt.figure(figsize=(10, 6))\n",
        "plt.barh(range(len(sorted_idx)), perm_importance.importances_mean[sorted_idx], align='center')\n",
        "plt.yticks(range(len(sorted_idx)), X.columns[sorted_idx])\n",
        "plt.xlabel(\"Permutation Importance (Decrease in Accuracy)\")\n",
        "plt.title(\"Feature Importance using Permutation Importance\")\n",
        "plt.show()\n",
        "\n",
        "# **SHAP Values**\n",
        "# Use the preprocessor to transform X_train for SHAP\n",
        "X_train_transformed = best_model.named_steps['preprocessor'].transform(X_train)\n",
        "\n",
        "# Initialize the SHAP explainer\n",
        "explainer = shap.Explainer(best_model.named_steps['classifier'], X_train_transformed)\n",
        "\n",
        "# Compute SHAP values\n",
        "shap_values = explainer(X_train_transformed)\n",
        "\n",
        "# Plot the SHAP values\n",
        "shap.summary_plot(shap_values, X_train_transformed, feature_names=X.columns)\n"
      ],
      "metadata": {
        "id": "MR4ci_FV9yvI"
      },
      "execution_count": null,
      "outputs": []
    }
  ]
}